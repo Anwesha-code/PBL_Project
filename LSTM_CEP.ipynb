{
  "nbformat": 4,
  "nbformat_minor": 0,
  "metadata": {
    "colab": {
      "provenance": [],
      "authorship_tag": "ABX9TyOLCWpFxkwCMcGfW2NkbYii",
      "include_colab_link": true
    },
    "kernelspec": {
      "name": "python3",
      "display_name": "Python 3"
    },
    "language_info": {
      "name": "python"
    }
  },
  "cells": [
    {
      "cell_type": "markdown",
      "metadata": {
        "id": "view-in-github",
        "colab_type": "text"
      },
      "source": [
        "<a href=\"https://colab.research.google.com/github/Anwesha-code/PBL_Project/blob/main/LSTM_CEP.ipynb\" target=\"_parent\"><img src=\"https://colab.research.google.com/assets/colab-badge.svg\" alt=\"Open In Colab\"/></a>"
      ]
    },
    {
      "cell_type": "code",
      "execution_count": 1,
      "metadata": {
        "colab": {
          "base_uri": "https://localhost:8080/",
          "height": 110
        },
        "id": "VYyfIq4fTQCR",
        "outputId": "490e9a43-6528-4b5f-9e84-8f749b201a55"
      },
      "outputs": [
        {
          "output_type": "display_data",
          "data": {
            "text/plain": [
              "<IPython.core.display.HTML object>"
            ],
            "text/html": [
              "\n",
              "     <input type=\"file\" id=\"files-669d5ab5-1100-4efe-8625-621002832c1d\" name=\"files[]\" multiple disabled\n",
              "        style=\"border:none\" />\n",
              "     <output id=\"result-669d5ab5-1100-4efe-8625-621002832c1d\">\n",
              "      Upload widget is only available when the cell has been executed in the\n",
              "      current browser session. Please rerun this cell to enable.\n",
              "      </output>\n",
              "      <script>// Copyright 2017 Google LLC\n",
              "//\n",
              "// Licensed under the Apache License, Version 2.0 (the \"License\");\n",
              "// you may not use this file except in compliance with the License.\n",
              "// You may obtain a copy of the License at\n",
              "//\n",
              "//      http://www.apache.org/licenses/LICENSE-2.0\n",
              "//\n",
              "// Unless required by applicable law or agreed to in writing, software\n",
              "// distributed under the License is distributed on an \"AS IS\" BASIS,\n",
              "// WITHOUT WARRANTIES OR CONDITIONS OF ANY KIND, either express or implied.\n",
              "// See the License for the specific language governing permissions and\n",
              "// limitations under the License.\n",
              "\n",
              "/**\n",
              " * @fileoverview Helpers for google.colab Python module.\n",
              " */\n",
              "(function(scope) {\n",
              "function span(text, styleAttributes = {}) {\n",
              "  const element = document.createElement('span');\n",
              "  element.textContent = text;\n",
              "  for (const key of Object.keys(styleAttributes)) {\n",
              "    element.style[key] = styleAttributes[key];\n",
              "  }\n",
              "  return element;\n",
              "}\n",
              "\n",
              "// Max number of bytes which will be uploaded at a time.\n",
              "const MAX_PAYLOAD_SIZE = 100 * 1024;\n",
              "\n",
              "function _uploadFiles(inputId, outputId) {\n",
              "  const steps = uploadFilesStep(inputId, outputId);\n",
              "  const outputElement = document.getElementById(outputId);\n",
              "  // Cache steps on the outputElement to make it available for the next call\n",
              "  // to uploadFilesContinue from Python.\n",
              "  outputElement.steps = steps;\n",
              "\n",
              "  return _uploadFilesContinue(outputId);\n",
              "}\n",
              "\n",
              "// This is roughly an async generator (not supported in the browser yet),\n",
              "// where there are multiple asynchronous steps and the Python side is going\n",
              "// to poll for completion of each step.\n",
              "// This uses a Promise to block the python side on completion of each step,\n",
              "// then passes the result of the previous step as the input to the next step.\n",
              "function _uploadFilesContinue(outputId) {\n",
              "  const outputElement = document.getElementById(outputId);\n",
              "  const steps = outputElement.steps;\n",
              "\n",
              "  const next = steps.next(outputElement.lastPromiseValue);\n",
              "  return Promise.resolve(next.value.promise).then((value) => {\n",
              "    // Cache the last promise value to make it available to the next\n",
              "    // step of the generator.\n",
              "    outputElement.lastPromiseValue = value;\n",
              "    return next.value.response;\n",
              "  });\n",
              "}\n",
              "\n",
              "/**\n",
              " * Generator function which is called between each async step of the upload\n",
              " * process.\n",
              " * @param {string} inputId Element ID of the input file picker element.\n",
              " * @param {string} outputId Element ID of the output display.\n",
              " * @return {!Iterable<!Object>} Iterable of next steps.\n",
              " */\n",
              "function* uploadFilesStep(inputId, outputId) {\n",
              "  const inputElement = document.getElementById(inputId);\n",
              "  inputElement.disabled = false;\n",
              "\n",
              "  const outputElement = document.getElementById(outputId);\n",
              "  outputElement.innerHTML = '';\n",
              "\n",
              "  const pickedPromise = new Promise((resolve) => {\n",
              "    inputElement.addEventListener('change', (e) => {\n",
              "      resolve(e.target.files);\n",
              "    });\n",
              "  });\n",
              "\n",
              "  const cancel = document.createElement('button');\n",
              "  inputElement.parentElement.appendChild(cancel);\n",
              "  cancel.textContent = 'Cancel upload';\n",
              "  const cancelPromise = new Promise((resolve) => {\n",
              "    cancel.onclick = () => {\n",
              "      resolve(null);\n",
              "    };\n",
              "  });\n",
              "\n",
              "  // Wait for the user to pick the files.\n",
              "  const files = yield {\n",
              "    promise: Promise.race([pickedPromise, cancelPromise]),\n",
              "    response: {\n",
              "      action: 'starting',\n",
              "    }\n",
              "  };\n",
              "\n",
              "  cancel.remove();\n",
              "\n",
              "  // Disable the input element since further picks are not allowed.\n",
              "  inputElement.disabled = true;\n",
              "\n",
              "  if (!files) {\n",
              "    return {\n",
              "      response: {\n",
              "        action: 'complete',\n",
              "      }\n",
              "    };\n",
              "  }\n",
              "\n",
              "  for (const file of files) {\n",
              "    const li = document.createElement('li');\n",
              "    li.append(span(file.name, {fontWeight: 'bold'}));\n",
              "    li.append(span(\n",
              "        `(${file.type || 'n/a'}) - ${file.size} bytes, ` +\n",
              "        `last modified: ${\n",
              "            file.lastModifiedDate ? file.lastModifiedDate.toLocaleDateString() :\n",
              "                                    'n/a'} - `));\n",
              "    const percent = span('0% done');\n",
              "    li.appendChild(percent);\n",
              "\n",
              "    outputElement.appendChild(li);\n",
              "\n",
              "    const fileDataPromise = new Promise((resolve) => {\n",
              "      const reader = new FileReader();\n",
              "      reader.onload = (e) => {\n",
              "        resolve(e.target.result);\n",
              "      };\n",
              "      reader.readAsArrayBuffer(file);\n",
              "    });\n",
              "    // Wait for the data to be ready.\n",
              "    let fileData = yield {\n",
              "      promise: fileDataPromise,\n",
              "      response: {\n",
              "        action: 'continue',\n",
              "      }\n",
              "    };\n",
              "\n",
              "    // Use a chunked sending to avoid message size limits. See b/62115660.\n",
              "    let position = 0;\n",
              "    do {\n",
              "      const length = Math.min(fileData.byteLength - position, MAX_PAYLOAD_SIZE);\n",
              "      const chunk = new Uint8Array(fileData, position, length);\n",
              "      position += length;\n",
              "\n",
              "      const base64 = btoa(String.fromCharCode.apply(null, chunk));\n",
              "      yield {\n",
              "        response: {\n",
              "          action: 'append',\n",
              "          file: file.name,\n",
              "          data: base64,\n",
              "        },\n",
              "      };\n",
              "\n",
              "      let percentDone = fileData.byteLength === 0 ?\n",
              "          100 :\n",
              "          Math.round((position / fileData.byteLength) * 100);\n",
              "      percent.textContent = `${percentDone}% done`;\n",
              "\n",
              "    } while (position < fileData.byteLength);\n",
              "  }\n",
              "\n",
              "  // All done.\n",
              "  yield {\n",
              "    response: {\n",
              "      action: 'complete',\n",
              "    }\n",
              "  };\n",
              "}\n",
              "\n",
              "scope.google = scope.google || {};\n",
              "scope.google.colab = scope.google.colab || {};\n",
              "scope.google.colab._files = {\n",
              "  _uploadFiles,\n",
              "  _uploadFilesContinue,\n",
              "};\n",
              "})(self);\n",
              "</script> "
            ]
          },
          "metadata": {}
        },
        {
          "output_type": "stream",
          "name": "stdout",
          "text": [
            "Saving data_center_carbon_emission_dataset_COPY.xlsx to data_center_carbon_emission_dataset_COPY.xlsx\n"
          ]
        }
      ],
      "source": [
        "from google.colab import files\n",
        "uploaded = files.upload()"
      ]
    },
    {
      "cell_type": "code",
      "source": [
        "import pandas as pd\n",
        "import seaborn as sns\n",
        "import matplotlib.pyplot as plt\n",
        "df = pd.read_excel('data_center_carbon_emission_dataset_COPY.xlsx')\n",
        "print(df.shape)"
      ],
      "metadata": {
        "colab": {
          "base_uri": "https://localhost:8080/"
        },
        "id": "ZYB7s4LJUY4g",
        "outputId": "e2d6fef4-b913-4fda-caad-2f99d7af38b4"
      },
      "execution_count": 2,
      "outputs": [
        {
          "output_type": "stream",
          "name": "stdout",
          "text": [
            "(75000, 18)\n"
          ]
        }
      ]
    },
    {
      "cell_type": "code",
      "source": [
        "import pandas as pd\n",
        "from sklearn.preprocessing import StandardScaler\n",
        "from scipy import stats\n",
        "import numpy as np\n",
        "\n",
        "# Load data\n",
        "df = pd.read_excel('data_center_carbon_emission_dataset_COPY.xlsx')\n",
        "\n",
        "# Convert timestamp to datetime and chronological sort\n",
        "df['timestamp'] = pd.to_datetime(df['timestamp'])\n",
        "df = df.sort_values('timestamp').reset_index(drop=True)\n",
        "\n",
        "# Handle missing values\n",
        "df.ffill(inplace=True)\n",
        "\n",
        "# Remove duplicates\n",
        "df.drop_duplicates(inplace=True)\n",
        "\n",
        "# Feature engineering: hour and day of week\n",
        "df['hour'] = df['timestamp'].dt.hour\n",
        "df['dayofweek'] = df['timestamp'].dt.dayofweek\n",
        "\n",
        "# Outlier removal (z-score, 3-sigma rule)\n",
        "z_scores = np.abs(stats.zscore(df.select_dtypes(include=[float, int])))\n",
        "df = df[(z_scores < 3).all(axis=1)]\n",
        "\n",
        "# Scaling numerical features\n",
        "num_cols = [\n",
        "    'voltage', 'current', 'power', 'frequency', 'energy', 'power_factor',\n",
        "    'esp32_temperature', 'cpu_temperature', 'gpu_temperature',\n",
        "    'cpu_usage_percent', 'cpu_power_watts', 'gpu_usage_percent',\n",
        "    'gpu_power_watts', 'ram_usage_percent', 'ram_power_watts'\n",
        "]\n",
        "scaler = StandardScaler()\n",
        "df[num_cols] = scaler.fit_transform(df[num_cols])\n",
        "\n",
        "# Categorical encoding with one-hot (MAC, weekday)\n",
        "df = pd.get_dummies(df, columns=['MAC', 'weekday'], drop_first=True)\n",
        "\n",
        "# Check for missing values and duplicates (again, after all steps)\n",
        "print(\"Missing values per column:\\n\", df.isnull().sum())\n",
        "df = df.drop_duplicates()\n",
        "\n",
        "# Verify sum of one-hot columns for weekdays is 0 or 1 per row (because of drop_first=True)\n",
        "weekday_cols = [col for col in df.columns if col.startswith('weekday_')]\n",
        "assert (((df[weekday_cols].sum(axis=1) == 1) | (df[weekday_cols].sum(axis=1) == 0)).all()), \"Error: Weekday encoding not correct\"\n",
        "\n",
        "# Temporal lag features (e.g., for voltage)\n",
        "df = df.sort_values('timestamp').reset_index(drop=True)\n",
        "df['voltage_lag1'] = df['voltage'].shift(1)\n",
        "\n",
        "# Drop NA values from lag creation (first row)\n",
        "df.dropna(inplace=True)\n",
        "df.reset_index(drop=True, inplace=True)\n",
        "\n",
        "# Chronological split for train, validation, test (70/15/15 split)\n",
        "train_size = int(len(df) * 0.7)\n",
        "val_size = int(len(df) * 0.15)\n",
        "train = df[:train_size]\n",
        "val = df[train_size:train_size + val_size]\n",
        "test = df[train_size + val_size:]\n",
        "\n",
        "print(\"Train shape:\", train.shape)\n",
        "print(\"Validation shape:\", val.shape)\n",
        "print(\"Test shape:\", test.shape)"
      ],
      "metadata": {
        "colab": {
          "base_uri": "https://localhost:8080/"
        },
        "id": "wa26yyVoU8Yu",
        "outputId": "5367f308-de9a-4df1-b64d-ebc06219a5c8"
      },
      "execution_count": 3,
      "outputs": [
        {
          "output_type": "stream",
          "name": "stdout",
          "text": [
            "Missing values per column:\n",
            " timestamp                0\n",
            "voltage                  0\n",
            "current                  0\n",
            "power                    0\n",
            "frequency                0\n",
            "energy                   0\n",
            "power_factor             0\n",
            "esp32_temperature        0\n",
            "cpu_temperature          0\n",
            "gpu_temperature          0\n",
            "cpu_usage_percent        0\n",
            "cpu_power_watts          0\n",
            "gpu_usage_percent        0\n",
            "gpu_power_watts          0\n",
            "ram_usage_percent        0\n",
            "ram_power_watts          0\n",
            "hour                     0\n",
            "dayofweek                0\n",
            "MAC_4D:62:06:13:97:31    0\n",
            "MAC_5E:63:07:14:98:32    0\n",
            "MAC_6F:64:08:15:99:33    0\n",
            "weekday_1                0\n",
            "weekday_2                0\n",
            "weekday_3                0\n",
            "weekday_4                0\n",
            "weekday_5                0\n",
            "weekday_6                0\n",
            "dtype: int64\n",
            "Train shape: (51961, 28)\n",
            "Validation shape: (11134, 28)\n",
            "Test shape: (11135, 28)\n"
          ]
        }
      ]
    },
    {
      "cell_type": "code",
      "source": [
        "import numpy as np\n",
        "from sklearn.preprocessing import MinMaxScaler\n",
        "from tensorflow.keras.models import Sequential\n",
        "from tensorflow.keras.layers import LSTM, Dense, Dropout\n",
        "from sklearn.metrics import mean_absolute_error, mean_squared_error\n",
        "\n",
        "# Create sequences for LSTM\n",
        "def create_sequences(data, target, sequence_length):\n",
        "    X, y = [], []\n",
        "    for i in range(len(data) - sequence_length):\n",
        "        X.append(data[i:i + sequence_length])\n",
        "        y.append(target[i + sequence_length])\n",
        "    return np.array(X), np.array(y)\n",
        "\n",
        "# Define sequence length (look-back window)\n",
        "sequence_length = 10  # Use past 10 time steps to predict next value\n"
      ],
      "metadata": {
        "id": "jOIjyBisVGiy"
      },
      "execution_count": 4,
      "outputs": []
    },
    {
      "cell_type": "code",
      "source": [
        "# Select target column (e.g., 'energy' as proxy for carbon emissions)\n",
        "target_col = 'energy'\n",
        "feature_cols = [col for col in train.columns if col not in ['timestamp', target_col]]\n",
        "\n",
        "# Extract features and target\n",
        "X_train_features = train[feature_cols].values\n",
        "y_train_target = train[target_col].values\n",
        "\n",
        "X_val_features = val[feature_cols].values\n",
        "y_val_target = val[target_col].values\n",
        "\n",
        "X_test_features = test[feature_cols].values\n",
        "y_test_target = test[target_col].values\n"
      ],
      "metadata": {
        "id": "EyXHe54OVPKC"
      },
      "execution_count": 5,
      "outputs": []
    },
    {
      "cell_type": "code",
      "source": [
        "# Create sequences for LSTM\n",
        "X_train_seq, y_train_seq = create_sequences(X_train_features, y_train_target, sequence_length)\n",
        "X_val_seq, y_val_seq = create_sequences(X_val_features, y_val_target, sequence_length)\n",
        "X_test_seq, y_test_seq = create_sequences(X_test_features, y_test_target, sequence_length)\n",
        "\n",
        "print(f\"Training sequences shape: {X_train_seq.shape}\")\n",
        "print(f\"Validation sequences shape: {X_val_seq.shape}\")\n",
        "print(f\"Test sequences shape: {X_test_seq.shape}\")\n"
      ],
      "metadata": {
        "colab": {
          "base_uri": "https://localhost:8080/"
        },
        "id": "MOVJdwC5VTD0",
        "outputId": "158d4365-ce27-4c07-a3fc-09ace81e43b7"
      },
      "execution_count": 6,
      "outputs": [
        {
          "output_type": "stream",
          "name": "stdout",
          "text": [
            "Training sequences shape: (51951, 10, 26)\n",
            "Validation sequences shape: (11124, 10, 26)\n",
            "Test sequences shape: (11125, 10, 26)\n"
          ]
        }
      ]
    },
    {
      "cell_type": "code",
      "source": [
        "# Build LSTM model\n",
        "def build_lstm_model(input_shape):\n",
        "    model = Sequential([\n",
        "        LSTM(50, return_sequences=True, input_shape=input_shape),\n",
        "        Dropout(0.2),\n",
        "        LSTM(50, return_sequences=False),\n",
        "        Dropout(0.2),\n",
        "        Dense(25),\n",
        "        Dense(1)\n",
        "    ])\n",
        "\n",
        "    model.compile(\n",
        "        optimizer='adam',\n",
        "        loss='mean_squared_error',\n",
        "        metrics=['mae']\n",
        "    )\n",
        "\n",
        "    return model\n",
        "\n",
        "# Create model\n",
        "input_shape = (sequence_length, X_train_seq.shape[2])\n",
        "lstm_model = build_lstm_model(input_shape)\n",
        "lstm_model.summary()\n"
      ],
      "metadata": {
        "colab": {
          "base_uri": "https://localhost:8080/",
          "height": 376
        },
        "id": "F9NeOuLIVVlc",
        "outputId": "d4f69664-b9ee-46b3-f729-a7f29ee2c9d4"
      },
      "execution_count": 7,
      "outputs": [
        {
          "output_type": "stream",
          "name": "stderr",
          "text": [
            "/usr/local/lib/python3.12/dist-packages/keras/src/layers/rnn/rnn.py:199: UserWarning: Do not pass an `input_shape`/`input_dim` argument to a layer. When using Sequential models, prefer using an `Input(shape)` object as the first layer in the model instead.\n",
            "  super().__init__(**kwargs)\n"
          ]
        },
        {
          "output_type": "display_data",
          "data": {
            "text/plain": [
              "\u001b[1mModel: \"sequential\"\u001b[0m\n"
            ],
            "text/html": [
              "<pre style=\"white-space:pre;overflow-x:auto;line-height:normal;font-family:Menlo,'DejaVu Sans Mono',consolas,'Courier New',monospace\"><span style=\"font-weight: bold\">Model: \"sequential\"</span>\n",
              "</pre>\n"
            ]
          },
          "metadata": {}
        },
        {
          "output_type": "display_data",
          "data": {
            "text/plain": [
              "┏━━━━━━━━━━━━━━━━━━━━━━━━━━━━━━━━━┳━━━━━━━━━━━━━━━━━━━━━━━━┳━━━━━━━━━━━━━━━┓\n",
              "┃\u001b[1m \u001b[0m\u001b[1mLayer (type)                   \u001b[0m\u001b[1m \u001b[0m┃\u001b[1m \u001b[0m\u001b[1mOutput Shape          \u001b[0m\u001b[1m \u001b[0m┃\u001b[1m \u001b[0m\u001b[1m      Param #\u001b[0m\u001b[1m \u001b[0m┃\n",
              "┡━━━━━━━━━━━━━━━━━━━━━━━━━━━━━━━━━╇━━━━━━━━━━━━━━━━━━━━━━━━╇━━━━━━━━━━━━━━━┩\n",
              "│ lstm (\u001b[38;5;33mLSTM\u001b[0m)                     │ (\u001b[38;5;45mNone\u001b[0m, \u001b[38;5;34m10\u001b[0m, \u001b[38;5;34m50\u001b[0m)         │        \u001b[38;5;34m15,400\u001b[0m │\n",
              "├─────────────────────────────────┼────────────────────────┼───────────────┤\n",
              "│ dropout (\u001b[38;5;33mDropout\u001b[0m)               │ (\u001b[38;5;45mNone\u001b[0m, \u001b[38;5;34m10\u001b[0m, \u001b[38;5;34m50\u001b[0m)         │             \u001b[38;5;34m0\u001b[0m │\n",
              "├─────────────────────────────────┼────────────────────────┼───────────────┤\n",
              "│ lstm_1 (\u001b[38;5;33mLSTM\u001b[0m)                   │ (\u001b[38;5;45mNone\u001b[0m, \u001b[38;5;34m50\u001b[0m)             │        \u001b[38;5;34m20,200\u001b[0m │\n",
              "├─────────────────────────────────┼────────────────────────┼───────────────┤\n",
              "│ dropout_1 (\u001b[38;5;33mDropout\u001b[0m)             │ (\u001b[38;5;45mNone\u001b[0m, \u001b[38;5;34m50\u001b[0m)             │             \u001b[38;5;34m0\u001b[0m │\n",
              "├─────────────────────────────────┼────────────────────────┼───────────────┤\n",
              "│ dense (\u001b[38;5;33mDense\u001b[0m)                   │ (\u001b[38;5;45mNone\u001b[0m, \u001b[38;5;34m25\u001b[0m)             │         \u001b[38;5;34m1,275\u001b[0m │\n",
              "├─────────────────────────────────┼────────────────────────┼───────────────┤\n",
              "│ dense_1 (\u001b[38;5;33mDense\u001b[0m)                 │ (\u001b[38;5;45mNone\u001b[0m, \u001b[38;5;34m1\u001b[0m)              │            \u001b[38;5;34m26\u001b[0m │\n",
              "└─────────────────────────────────┴────────────────────────┴───────────────┘\n"
            ],
            "text/html": [
              "<pre style=\"white-space:pre;overflow-x:auto;line-height:normal;font-family:Menlo,'DejaVu Sans Mono',consolas,'Courier New',monospace\">┏━━━━━━━━━━━━━━━━━━━━━━━━━━━━━━━━━┳━━━━━━━━━━━━━━━━━━━━━━━━┳━━━━━━━━━━━━━━━┓\n",
              "┃<span style=\"font-weight: bold\"> Layer (type)                    </span>┃<span style=\"font-weight: bold\"> Output Shape           </span>┃<span style=\"font-weight: bold\">       Param # </span>┃\n",
              "┡━━━━━━━━━━━━━━━━━━━━━━━━━━━━━━━━━╇━━━━━━━━━━━━━━━━━━━━━━━━╇━━━━━━━━━━━━━━━┩\n",
              "│ lstm (<span style=\"color: #0087ff; text-decoration-color: #0087ff\">LSTM</span>)                     │ (<span style=\"color: #00d7ff; text-decoration-color: #00d7ff\">None</span>, <span style=\"color: #00af00; text-decoration-color: #00af00\">10</span>, <span style=\"color: #00af00; text-decoration-color: #00af00\">50</span>)         │        <span style=\"color: #00af00; text-decoration-color: #00af00\">15,400</span> │\n",
              "├─────────────────────────────────┼────────────────────────┼───────────────┤\n",
              "│ dropout (<span style=\"color: #0087ff; text-decoration-color: #0087ff\">Dropout</span>)               │ (<span style=\"color: #00d7ff; text-decoration-color: #00d7ff\">None</span>, <span style=\"color: #00af00; text-decoration-color: #00af00\">10</span>, <span style=\"color: #00af00; text-decoration-color: #00af00\">50</span>)         │             <span style=\"color: #00af00; text-decoration-color: #00af00\">0</span> │\n",
              "├─────────────────────────────────┼────────────────────────┼───────────────┤\n",
              "│ lstm_1 (<span style=\"color: #0087ff; text-decoration-color: #0087ff\">LSTM</span>)                   │ (<span style=\"color: #00d7ff; text-decoration-color: #00d7ff\">None</span>, <span style=\"color: #00af00; text-decoration-color: #00af00\">50</span>)             │        <span style=\"color: #00af00; text-decoration-color: #00af00\">20,200</span> │\n",
              "├─────────────────────────────────┼────────────────────────┼───────────────┤\n",
              "│ dropout_1 (<span style=\"color: #0087ff; text-decoration-color: #0087ff\">Dropout</span>)             │ (<span style=\"color: #00d7ff; text-decoration-color: #00d7ff\">None</span>, <span style=\"color: #00af00; text-decoration-color: #00af00\">50</span>)             │             <span style=\"color: #00af00; text-decoration-color: #00af00\">0</span> │\n",
              "├─────────────────────────────────┼────────────────────────┼───────────────┤\n",
              "│ dense (<span style=\"color: #0087ff; text-decoration-color: #0087ff\">Dense</span>)                   │ (<span style=\"color: #00d7ff; text-decoration-color: #00d7ff\">None</span>, <span style=\"color: #00af00; text-decoration-color: #00af00\">25</span>)             │         <span style=\"color: #00af00; text-decoration-color: #00af00\">1,275</span> │\n",
              "├─────────────────────────────────┼────────────────────────┼───────────────┤\n",
              "│ dense_1 (<span style=\"color: #0087ff; text-decoration-color: #0087ff\">Dense</span>)                 │ (<span style=\"color: #00d7ff; text-decoration-color: #00d7ff\">None</span>, <span style=\"color: #00af00; text-decoration-color: #00af00\">1</span>)              │            <span style=\"color: #00af00; text-decoration-color: #00af00\">26</span> │\n",
              "└─────────────────────────────────┴────────────────────────┴───────────────┘\n",
              "</pre>\n"
            ]
          },
          "metadata": {}
        },
        {
          "output_type": "display_data",
          "data": {
            "text/plain": [
              "\u001b[1m Total params: \u001b[0m\u001b[38;5;34m36,901\u001b[0m (144.14 KB)\n"
            ],
            "text/html": [
              "<pre style=\"white-space:pre;overflow-x:auto;line-height:normal;font-family:Menlo,'DejaVu Sans Mono',consolas,'Courier New',monospace\"><span style=\"font-weight: bold\"> Total params: </span><span style=\"color: #00af00; text-decoration-color: #00af00\">36,901</span> (144.14 KB)\n",
              "</pre>\n"
            ]
          },
          "metadata": {}
        },
        {
          "output_type": "display_data",
          "data": {
            "text/plain": [
              "\u001b[1m Trainable params: \u001b[0m\u001b[38;5;34m36,901\u001b[0m (144.14 KB)\n"
            ],
            "text/html": [
              "<pre style=\"white-space:pre;overflow-x:auto;line-height:normal;font-family:Menlo,'DejaVu Sans Mono',consolas,'Courier New',monospace\"><span style=\"font-weight: bold\"> Trainable params: </span><span style=\"color: #00af00; text-decoration-color: #00af00\">36,901</span> (144.14 KB)\n",
              "</pre>\n"
            ]
          },
          "metadata": {}
        },
        {
          "output_type": "display_data",
          "data": {
            "text/plain": [
              "\u001b[1m Non-trainable params: \u001b[0m\u001b[38;5;34m0\u001b[0m (0.00 B)\n"
            ],
            "text/html": [
              "<pre style=\"white-space:pre;overflow-x:auto;line-height:normal;font-family:Menlo,'DejaVu Sans Mono',consolas,'Courier New',monospace\"><span style=\"font-weight: bold\"> Non-trainable params: </span><span style=\"color: #00af00; text-decoration-color: #00af00\">0</span> (0.00 B)\n",
              "</pre>\n"
            ]
          },
          "metadata": {}
        }
      ]
    },
    {
      "cell_type": "code",
      "source": [
        "import numpy as np\n",
        "from tensorflow.keras.callbacks import EarlyStopping, ReduceLROnPlateau\n",
        "\n",
        "# First, let's check the data types and fix them\n",
        "print(\"Checking data types...\")\n",
        "print(\"X_train_seq dtype:\", X_train_seq.dtype)\n",
        "print(\"y_train_seq dtype:\", y_train_seq.dtype)\n",
        "print(\"X_val_seq dtype:\", X_val_seq.dtype)\n",
        "print(\"y_val_seq dtype:\", y_val_seq.dtype)\n",
        "\n",
        "# Convert all arrays to float32 (required for LSTM)\n",
        "X_train_seq = X_train_seq.astype(np.float32)\n",
        "y_train_seq = y_train_seq.astype(np.float32)\n",
        "X_val_seq = X_val_seq.astype(np.float32)\n",
        "y_val_seq = y_val_seq.astype(np.float32)\n",
        "X_test_seq = X_test_seq.astype(np.float32)\n",
        "y_test_seq = y_test_seq.astype(np.float32)\n",
        "\n",
        "# Check for any NaN or infinite values\n",
        "print(\"Checking for NaN/Inf values...\")\n",
        "print(\"X_train_seq has NaN:\", np.isnan(X_train_seq).any())\n",
        "print(\"y_train_seq has NaN:\", np.isnan(y_train_seq).any())\n",
        "print(\"X_train_seq has Inf:\", np.isinf(X_train_seq).any())\n",
        "print(\"y_train_seq has Inf:\", np.isinf(y_train_seq).any())\n",
        "\n",
        "# Replace any NaN/Inf values with 0\n",
        "X_train_seq = np.nan_to_num(X_train_seq, nan=0.0, posinf=0.0, neginf=0.0)\n",
        "y_train_seq = np.nan_to_num(y_train_seq, nan=0.0, posinf=0.0, neginf=0.0)\n",
        "X_val_seq = np.nan_to_num(X_val_seq, nan=0.0, posinf=0.0, neginf=0.0)\n",
        "y_val_seq = np.nan_to_num(y_val_seq, nan=0.0, posinf=0.0, neginf=0.0)\n",
        "X_test_seq = np.nan_to_num(X_test_seq, nan=0.0, posinf=0.0, neginf=0.0)\n",
        "y_test_seq = np.nan_to_num(y_test_seq, nan=0.0, posinf=0.0, neginf=0.0)\n",
        "\n",
        "print(\"Data types after conversion:\")\n",
        "print(\"X_train_seq shape:\", X_train_seq.shape, \"dtype:\", X_train_seq.dtype)\n",
        "print(\"y_train_seq shape:\", y_train_seq.shape, \"dtype:\", y_train_seq.dtype)\n",
        "\n",
        "# Define callbacks\n",
        "early_stopping = EarlyStopping(\n",
        "    monitor='val_loss',\n",
        "    patience=10,\n",
        "    restore_best_weights=True\n",
        ")\n",
        "\n",
        "reduce_lr = ReduceLROnPlateau(\n",
        "    monitor='val_loss',\n",
        "    factor=0.2,\n",
        "    patience=5,\n",
        "    min_lr=0.0001\n",
        ")\n",
        "\n",
        "# Train model\n",
        "print(\"Starting LSTM training...\")\n",
        "history = lstm_model.fit(\n",
        "    X_train_seq, y_train_seq,\n",
        "    epochs=100,\n",
        "    batch_size=32,\n",
        "    validation_data=(X_val_seq, y_val_seq),\n",
        "    callbacks=[early_stopping, reduce_lr],\n",
        "    verbose=1\n",
        ")\n",
        "\n",
        "print(\"Training completed!\")\n",
        "\n"
      ],
      "metadata": {
        "colab": {
          "base_uri": "https://localhost:8080/"
        },
        "id": "_O2BDTvcVbqz",
        "outputId": "d2fb8168-8100-4f16-ee98-b21fd40f3a47"
      },
      "execution_count": 9,
      "outputs": [
        {
          "output_type": "stream",
          "name": "stdout",
          "text": [
            "Checking data types...\n",
            "X_train_seq dtype: object\n",
            "y_train_seq dtype: float64\n",
            "X_val_seq dtype: object\n",
            "y_val_seq dtype: float64\n",
            "Checking for NaN/Inf values...\n",
            "X_train_seq has NaN: False\n",
            "y_train_seq has NaN: False\n",
            "X_train_seq has Inf: False\n",
            "y_train_seq has Inf: False\n",
            "Data types after conversion:\n",
            "X_train_seq shape: (51951, 10, 26) dtype: float32\n",
            "y_train_seq shape: (51951,) dtype: float32\n",
            "Starting LSTM training...\n",
            "Epoch 1/100\n",
            "\u001b[1m1624/1624\u001b[0m \u001b[32m━━━━━━━━━━━━━━━━━━━━\u001b[0m\u001b[37m\u001b[0m \u001b[1m24s\u001b[0m 12ms/step - loss: 0.4834 - mae: 0.5951 - val_loss: 2.1330 - val_mae: 1.4471 - learning_rate: 0.0010\n",
            "Epoch 2/100\n",
            "\u001b[1m1624/1624\u001b[0m \u001b[32m━━━━━━━━━━━━━━━━━━━━\u001b[0m\u001b[37m\u001b[0m \u001b[1m21s\u001b[0m 13ms/step - loss: 0.4553 - mae: 0.5785 - val_loss: 2.5306 - val_mae: 1.5748 - learning_rate: 0.0010\n",
            "Epoch 3/100\n",
            "\u001b[1m1624/1624\u001b[0m \u001b[32m━━━━━━━━━━━━━━━━━━━━\u001b[0m\u001b[37m\u001b[0m \u001b[1m26s\u001b[0m 16ms/step - loss: 0.4217 - mae: 0.5567 - val_loss: 2.4600 - val_mae: 1.5406 - learning_rate: 0.0010\n",
            "Epoch 4/100\n",
            "\u001b[1m1624/1624\u001b[0m \u001b[32m━━━━━━━━━━━━━━━━━━━━\u001b[0m\u001b[37m\u001b[0m \u001b[1m38s\u001b[0m 14ms/step - loss: 0.3782 - mae: 0.5242 - val_loss: 2.2976 - val_mae: 1.4898 - learning_rate: 0.0010\n",
            "Epoch 5/100\n",
            "\u001b[1m1624/1624\u001b[0m \u001b[32m━━━━━━━━━━━━━━━━━━━━\u001b[0m\u001b[37m\u001b[0m \u001b[1m39s\u001b[0m 13ms/step - loss: 0.3332 - mae: 0.4850 - val_loss: 2.1450 - val_mae: 1.4318 - learning_rate: 0.0010\n",
            "Epoch 6/100\n",
            "\u001b[1m1624/1624\u001b[0m \u001b[32m━━━━━━━━━━━━━━━━━━━━\u001b[0m\u001b[37m\u001b[0m \u001b[1m22s\u001b[0m 13ms/step - loss: 0.2920 - mae: 0.4493 - val_loss: 2.4398 - val_mae: 1.5237 - learning_rate: 0.0010\n",
            "Epoch 7/100\n",
            "\u001b[1m1624/1624\u001b[0m \u001b[32m━━━━━━━━━━━━━━━━━━━━\u001b[0m\u001b[37m\u001b[0m \u001b[1m40s\u001b[0m 13ms/step - loss: 0.2469 - mae: 0.4073 - val_loss: 2.4060 - val_mae: 1.5074 - learning_rate: 2.0000e-04\n",
            "Epoch 8/100\n",
            "\u001b[1m1624/1624\u001b[0m \u001b[32m━━━━━━━━━━━━━━━━━━━━\u001b[0m\u001b[37m\u001b[0m \u001b[1m40s\u001b[0m 12ms/step - loss: 0.2321 - mae: 0.3915 - val_loss: 2.4992 - val_mae: 1.5323 - learning_rate: 2.0000e-04\n",
            "Epoch 9/100\n",
            "\u001b[1m1624/1624\u001b[0m \u001b[32m━━━━━━━━━━━━━━━━━━━━\u001b[0m\u001b[37m\u001b[0m \u001b[1m22s\u001b[0m 13ms/step - loss: 0.2267 - mae: 0.3865 - val_loss: 2.5098 - val_mae: 1.5362 - learning_rate: 2.0000e-04\n",
            "Epoch 10/100\n",
            "\u001b[1m1624/1624\u001b[0m \u001b[32m━━━━━━━━━━━━━━━━━━━━\u001b[0m\u001b[37m\u001b[0m \u001b[1m21s\u001b[0m 13ms/step - loss: 0.2203 - mae: 0.3797 - val_loss: 2.4886 - val_mae: 1.5273 - learning_rate: 2.0000e-04\n",
            "Epoch 11/100\n",
            "\u001b[1m1624/1624\u001b[0m \u001b[32m━━━━━━━━━━━━━━━━━━━━\u001b[0m\u001b[37m\u001b[0m \u001b[1m41s\u001b[0m 13ms/step - loss: 0.2103 - mae: 0.3707 - val_loss: 2.4003 - val_mae: 1.4990 - learning_rate: 2.0000e-04\n",
            "Training completed!\n"
          ]
        }
      ]
    },
    {
      "cell_type": "code",
      "source": [
        "# Make predictions\n",
        "y_val_pred = lstm_model.predict(X_val_seq)\n",
        "y_test_pred = lstm_model.predict(X_test_seq)\n",
        "\n",
        "# Calculate metrics\n",
        "val_mae = mean_absolute_error(y_val_seq, y_val_pred)\n",
        "val_rmse = np.sqrt(mean_squared_error(y_val_seq, y_val_pred))\n",
        "\n",
        "test_mae = mean_absolute_error(y_test_seq, y_test_pred)\n",
        "test_rmse = np.sqrt(mean_squared_error(y_test_seq, y_test_pred))\n",
        "\n",
        "print(f'LSTM Validation MAE: {val_mae:.4f}, RMSE: {val_rmse:.4f}')\n",
        "print(f'LSTM Test MAE: {test_mae:.4f}, RMSE: {test_rmse:.4f}')\n"
      ],
      "metadata": {
        "colab": {
          "base_uri": "https://localhost:8080/"
        },
        "id": "sLtWc00CVs-F",
        "outputId": "7580eaeb-daed-4f24-ebd6-5b4138982def"
      },
      "execution_count": 10,
      "outputs": [
        {
          "output_type": "stream",
          "name": "stdout",
          "text": [
            "\u001b[1m348/348\u001b[0m \u001b[32m━━━━━━━━━━━━━━━━━━━━\u001b[0m\u001b[37m\u001b[0m \u001b[1m2s\u001b[0m 4ms/step\n",
            "\u001b[1m348/348\u001b[0m \u001b[32m━━━━━━━━━━━━━━━━━━━━\u001b[0m\u001b[37m\u001b[0m \u001b[1m1s\u001b[0m 3ms/step\n",
            "LSTM Validation MAE: 1.4471, RMSE: 1.4605\n",
            "LSTM Test MAE: 1.9038, RMSE: 1.9118\n"
          ]
        }
      ]
    },
    {
      "cell_type": "code",
      "source": [
        "import matplotlib.pyplot as plt\n",
        "\n",
        "# Plot training history\n",
        "plt.figure(figsize=(12, 4))\n",
        "\n",
        "plt.subplot(1, 2, 1)\n",
        "plt.plot(history.history['loss'], label='Training Loss')\n",
        "plt.plot(history.history['val_loss'], label='Validation Loss')\n",
        "plt.title('Model Loss')\n",
        "plt.xlabel('Epoch')\n",
        "plt.ylabel('Loss')\n",
        "plt.legend()\n",
        "\n",
        "plt.subplot(1, 2, 2)\n",
        "plt.plot(history.history['mae'], label='Training MAE')\n",
        "plt.plot(history.history['val_mae'], label='Validation MAE')\n",
        "plt.title('Model MAE')\n",
        "plt.xlabel('Epoch')\n",
        "plt.ylabel('MAE')\n",
        "plt.legend()\n",
        "\n",
        "plt.tight_layout()\n",
        "plt.show()\n"
      ],
      "metadata": {
        "colab": {
          "base_uri": "https://localhost:8080/",
          "height": 228
        },
        "id": "LQKFE6GJWYRN",
        "outputId": "25ba4939-8221-4340-f50c-272caf0399f9"
      },
      "execution_count": 11,
      "outputs": [
        {
          "output_type": "display_data",
          "data": {
            "text/plain": [
              "<Figure size 1200x400 with 2 Axes>"
            ],
            "image/png": "[encoded data removed]"
          },
          "metadata": {}
        }
      ]
    },
    {
      "cell_type": "code",
      "source": [],
      "metadata": {
        "id": "jsfMU80nXgWp"
      },
      "execution_count": null,
      "outputs": []
    }
  ]
}